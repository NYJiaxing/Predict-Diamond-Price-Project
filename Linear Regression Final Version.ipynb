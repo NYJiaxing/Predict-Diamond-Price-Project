{
 "cells": [
  {
   "cell_type": "markdown",
   "metadata": {},
   "source": [
    "# ECE 537 Final Project \n",
    "## Predict Diamond Price with Data mining techniques and concepts\n",
    "\n",
    "## Part 1. Data importing and Data pre-procession"
   ]
  },
  {
   "cell_type": "code",
   "execution_count": 59,
   "metadata": {},
   "outputs": [
    {
     "data": {
      "text/html": [
       "<div>\n",
       "<style scoped>\n",
       "    .dataframe tbody tr th:only-of-type {\n",
       "        vertical-align: middle;\n",
       "    }\n",
       "\n",
       "    .dataframe tbody tr th {\n",
       "        vertical-align: top;\n",
       "    }\n",
       "\n",
       "    .dataframe thead th {\n",
       "        text-align: right;\n",
       "    }\n",
       "</style>\n",
       "<table border=\"1\" class=\"dataframe\">\n",
       "  <thead>\n",
       "    <tr style=\"text-align: right;\">\n",
       "      <th></th>\n",
       "      <th>Shape</th>\n",
       "      <th>Carat</th>\n",
       "      <th>Color</th>\n",
       "      <th>Clarity</th>\n",
       "      <th>Cut</th>\n",
       "      <th>Depth</th>\n",
       "      <th>Table</th>\n",
       "      <th>Symmetry</th>\n",
       "      <th>Cert</th>\n",
       "      <th>Price</th>\n",
       "    </tr>\n",
       "  </thead>\n",
       "  <tbody>\n",
       "    <tr>\n",
       "      <th>0</th>\n",
       "      <td>Asscher</td>\n",
       "      <td>1.41</td>\n",
       "      <td>F</td>\n",
       "      <td>VVS1</td>\n",
       "      <td>Excellent</td>\n",
       "      <td>68.1</td>\n",
       "      <td>66.0</td>\n",
       "      <td>Very Good</td>\n",
       "      <td>GIA</td>\n",
       "      <td>9668</td>\n",
       "    </tr>\n",
       "    <tr>\n",
       "      <th>1</th>\n",
       "      <td>Asscher</td>\n",
       "      <td>1.18</td>\n",
       "      <td>I</td>\n",
       "      <td>VS1</td>\n",
       "      <td>Excellent</td>\n",
       "      <td>68.4</td>\n",
       "      <td>63.0</td>\n",
       "      <td>Excellent</td>\n",
       "      <td>GIA</td>\n",
       "      <td>4408</td>\n",
       "    </tr>\n",
       "    <tr>\n",
       "      <th>2</th>\n",
       "      <td>Asscher</td>\n",
       "      <td>1.83</td>\n",
       "      <td>I</td>\n",
       "      <td>VVS2</td>\n",
       "      <td>Excellent</td>\n",
       "      <td>66.6</td>\n",
       "      <td>61.0</td>\n",
       "      <td>Excellent</td>\n",
       "      <td>GIA</td>\n",
       "      <td>8220</td>\n",
       "    </tr>\n",
       "    <tr>\n",
       "      <th>3</th>\n",
       "      <td>Asscher</td>\n",
       "      <td>2.32</td>\n",
       "      <td>F</td>\n",
       "      <td>VVS2</td>\n",
       "      <td>Excellent</td>\n",
       "      <td>67.8</td>\n",
       "      <td>63.0</td>\n",
       "      <td>Excellent</td>\n",
       "      <td>GIA</td>\n",
       "      <td>22106</td>\n",
       "    </tr>\n",
       "    <tr>\n",
       "      <th>4</th>\n",
       "      <td>Asscher</td>\n",
       "      <td>1.01</td>\n",
       "      <td>I</td>\n",
       "      <td>VVS1</td>\n",
       "      <td>Excellent</td>\n",
       "      <td>70.5</td>\n",
       "      <td>67.0</td>\n",
       "      <td>Very Good</td>\n",
       "      <td>GIA</td>\n",
       "      <td>2901</td>\n",
       "    </tr>\n",
       "  </tbody>\n",
       "</table>\n",
       "</div>"
      ],
      "text/plain": [
       "     Shape  Carat Color Clarity        Cut  Depth  Table   Symmetry Cert  \\\n",
       "0  Asscher   1.41     F    VVS1  Excellent   68.1   66.0  Very Good  GIA   \n",
       "1  Asscher   1.18     I     VS1  Excellent   68.4   63.0  Excellent  GIA   \n",
       "2  Asscher   1.83     I    VVS2  Excellent   66.6   61.0  Excellent  GIA   \n",
       "3  Asscher   2.32     F    VVS2  Excellent   67.8   63.0  Excellent  GIA   \n",
       "4  Asscher   1.01     I    VVS1  Excellent   70.5   67.0  Very Good  GIA   \n",
       "\n",
       "   Price  \n",
       "0   9668  \n",
       "1   4408  \n",
       "2   8220  \n",
       "3  22106  \n",
       "4   2901  "
      ]
     },
     "execution_count": 59,
     "metadata": {},
     "output_type": "execute_result"
    }
   ],
   "source": [
    "## import pandas and numpy module to import and pre-processing the original data from web\n",
    "import pandas as pd \n",
    "import numpy as np\n",
    "##import data from csv file\n",
    "dm = pd.read_csv(\"Diamond Dataset.csv\")\n",
    "dm.head(5)"
   ]
  },
  {
   "cell_type": "code",
   "execution_count": 60,
   "metadata": {},
   "outputs": [
    {
     "data": {
      "text/html": [
       "<div>\n",
       "<style scoped>\n",
       "    .dataframe tbody tr th:only-of-type {\n",
       "        vertical-align: middle;\n",
       "    }\n",
       "\n",
       "    .dataframe tbody tr th {\n",
       "        vertical-align: top;\n",
       "    }\n",
       "\n",
       "    .dataframe thead th {\n",
       "        text-align: right;\n",
       "    }\n",
       "</style>\n",
       "<table border=\"1\" class=\"dataframe\">\n",
       "  <thead>\n",
       "    <tr style=\"text-align: right;\">\n",
       "      <th></th>\n",
       "      <th>Carat</th>\n",
       "      <th>Depth</th>\n",
       "      <th>Table</th>\n",
       "      <th>Price</th>\n",
       "    </tr>\n",
       "  </thead>\n",
       "  <tbody>\n",
       "    <tr>\n",
       "      <th>count</th>\n",
       "      <td>10457.000000</td>\n",
       "      <td>10444.000000</td>\n",
       "      <td>10443.000000</td>\n",
       "      <td>10457.000000</td>\n",
       "    </tr>\n",
       "    <tr>\n",
       "      <th>mean</th>\n",
       "      <td>1.438875</td>\n",
       "      <td>63.990857</td>\n",
       "      <td>61.349229</td>\n",
       "      <td>12352.944630</td>\n",
       "    </tr>\n",
       "    <tr>\n",
       "      <th>std</th>\n",
       "      <td>0.874043</td>\n",
       "      <td>4.831526</td>\n",
       "      <td>5.268407</td>\n",
       "      <td>26615.754012</td>\n",
       "    </tr>\n",
       "    <tr>\n",
       "      <th>min</th>\n",
       "      <td>0.180000</td>\n",
       "      <td>22.600000</td>\n",
       "      <td>1.000000</td>\n",
       "      <td>103.000000</td>\n",
       "    </tr>\n",
       "    <tr>\n",
       "      <th>25%</th>\n",
       "      <td>0.910000</td>\n",
       "      <td>61.100000</td>\n",
       "      <td>58.000000</td>\n",
       "      <td>3133.000000</td>\n",
       "    </tr>\n",
       "    <tr>\n",
       "      <th>50%</th>\n",
       "      <td>1.200000</td>\n",
       "      <td>62.700000</td>\n",
       "      <td>60.000000</td>\n",
       "      <td>6199.000000</td>\n",
       "    </tr>\n",
       "    <tr>\n",
       "      <th>75%</th>\n",
       "      <td>1.730000</td>\n",
       "      <td>67.800000</td>\n",
       "      <td>64.000000</td>\n",
       "      <td>12794.000000</td>\n",
       "    </tr>\n",
       "    <tr>\n",
       "      <th>max</th>\n",
       "      <td>14.730000</td>\n",
       "      <td>90.600000</td>\n",
       "      <td>89.000000</td>\n",
       "      <td>747522.000000</td>\n",
       "    </tr>\n",
       "  </tbody>\n",
       "</table>\n",
       "</div>"
      ],
      "text/plain": [
       "              Carat         Depth         Table          Price\n",
       "count  10457.000000  10444.000000  10443.000000   10457.000000\n",
       "mean       1.438875     63.990857     61.349229   12352.944630\n",
       "std        0.874043      4.831526      5.268407   26615.754012\n",
       "min        0.180000     22.600000      1.000000     103.000000\n",
       "25%        0.910000     61.100000     58.000000    3133.000000\n",
       "50%        1.200000     62.700000     60.000000    6199.000000\n",
       "75%        1.730000     67.800000     64.000000   12794.000000\n",
       "max       14.730000     90.600000     89.000000  747522.000000"
      ]
     },
     "execution_count": 60,
     "metadata": {},
     "output_type": "execute_result"
    }
   ],
   "source": [
    "dm.describe()"
   ]
  },
  {
   "cell_type": "code",
   "execution_count": 61,
   "metadata": {},
   "outputs": [
    {
     "data": {
      "image/png": "[encoded data removed]",
      "text/plain": [
       "<matplotlib.figure.Figure at 0x290a55085f8>"
      ]
     },
     "metadata": {},
     "output_type": "display_data"
    }
   ],
   "source": [
    "import seaborn as sns\n",
    "import matplotlib.pyplot as plt\n",
    "features = ['Cut','Clarity','Color','Symmetry']\n",
    "\n",
    "plt.figure(figsize=(10,5))\n",
    "for i in range(len(features)):\n",
    "    plt.subplot(1,5,i+1)\n",
    "    sns.countplot(dm[features[i]], palette='Set2');\n",
    "    plt.title('Value Counts of {}'.format(features[i]))\n",
    "    \n",
    "plt.savefig(\"output.png\")"
   ]
  },
  {
   "cell_type": "code",
   "execution_count": 62,
   "metadata": {},
   "outputs": [
    {
     "data": {
      "image/png": "[encoded data removed]",
      "text/plain": [
       "<matplotlib.figure.Figure at 0x290a4cb4ba8>"
      ]
     },
     "metadata": {},
     "output_type": "display_data"
    }
   ],
   "source": [
    "plt.figure(figsize=(10,5))\n",
    "sns.countplot(dm['Shape'], palette='Set2');\n",
    "plt.title('Value Counts of {}'.format('Shape'))\n",
    "plt.savefig(\"shape.png\")"
   ]
  },
  {
   "cell_type": "code",
   "execution_count": 65,
   "metadata": {
    "scrolled": true
   },
   "outputs": [
    {
     "name": "stdout",
     "output_type": "stream",
     "text": [
      "GIA            10442\n",
      "Uncertified       12\n",
      "None               2\n",
      "Other Labs         1\n",
      "Name: Cert, dtype: int64\n"
     ]
    }
   ],
   "source": [
    "print(dm['Cert'].value_counts().sort_values(ascending=False).head(10))\n",
    "dm['Cert'] = ['GIA' if x == 'GIA' else 'Other' for x in dm['Cert']]"
   ]
  },
  {
   "cell_type": "code",
   "execution_count": 66,
   "metadata": {},
   "outputs": [
    {
     "name": "stdout",
     "output_type": "stream",
     "text": [
      "After Combine the Cert\n",
      "GIA      10442\n",
      "Other       15\n",
      "Name: Cert, dtype: int64\n"
     ]
    }
   ],
   "source": [
    "print( 'After Combine the Cert')\n",
    "print(dm['Cert'].value_counts().sort_values(ascending=False))"
   ]
  },
  {
   "cell_type": "markdown",
   "metadata": {},
   "source": [
    "## Numerical Nominal data "
   ]
  },
  {
   "cell_type": "code",
   "execution_count": 67,
   "metadata": {},
   "outputs": [
    {
     "name": "stdout",
     "output_type": "stream",
     "text": [
      "Feature 'Shape' has 11 unique categories\n",
      "Feature 'Color' has 11 unique categories\n",
      "Feature 'Clarity' has 11 unique categories\n",
      "Feature 'Cut' has 5 unique categories\n",
      "Feature 'Symmetry' has 5 unique categories\n",
      "Feature 'Cert' has 2 unique categories\n"
     ]
    }
   ],
   "source": [
    "# Decide which categorical variables you want to use in model\n",
    "for col_name in dm.columns:\n",
    "    if dm[col_name].dtypes == 'object':\n",
    "        unique_cat = len(dm[col_name].unique())\n",
    "        print(\"Feature '{col_name}' has {unique_cat} unique categories\".format(col_name=col_name, unique_cat=unique_cat))"
   ]
  },
  {
   "cell_type": "code",
   "execution_count": 68,
   "metadata": {},
   "outputs": [],
   "source": [
    "# Function to dummy all the categorical variables used for modeling\n",
    "def dummy_df(df, todummy_list):\n",
    "    for x in todummy_list:\n",
    "        dummies = pd.get_dummies(df[x], prefix=x, dummy_na=False)\n",
    "        df = df.drop(x, 1)\n",
    "        df = pd.concat([df, dummies], axis=1)\n",
    "    return df"
   ]
  },
  {
   "cell_type": "code",
   "execution_count": 69,
   "metadata": {
    "scrolled": true
   },
   "outputs": [
    {
     "name": "stdout",
     "output_type": "stream",
     "text": [
      "   Carat Color Clarity        Cut  Depth  Table   Symmetry Cert  Price  \\\n",
      "0   1.41     F    VVS1  Excellent   68.1   66.0  Very Good  GIA   9668   \n",
      "1   1.18     I     VS1  Excellent   68.4   63.0  Excellent  GIA   4408   \n",
      "2   1.83     I    VVS2  Excellent   66.6   61.0  Excellent  GIA   8220   \n",
      "3   2.32     F    VVS2  Excellent   67.8   63.0  Excellent  GIA  22106   \n",
      "4   1.01     I    VVS1  Excellent   70.5   67.0  Very Good  GIA   2901   \n",
      "\n",
      "   Shape_Asscher  Shape_Cushion  Shape_Cushion Brilliant  Shape_Emerald  \\\n",
      "0              1              0                        0              0   \n",
      "1              1              0                        0              0   \n",
      "2              1              0                        0              0   \n",
      "3              1              0                        0              0   \n",
      "4              1              0                        0              0   \n",
      "\n",
      "   Shape_Heart  Shape_Marquise  Shape_Oval  Shape_Pear  Shape_Princess  \\\n",
      "0            0               0           0           0               0   \n",
      "1            0               0           0           0               0   \n",
      "2            0               0           0           0               0   \n",
      "3            0               0           0           0               0   \n",
      "4            0               0           0           0               0   \n",
      "\n",
      "   Shape_Radiant  Shape_Round  \n",
      "0              0            0  \n",
      "1              0            0  \n",
      "2              0            0  \n",
      "3              0            0  \n",
      "4              0            0  \n"
     ]
    }
   ],
   "source": [
    "todummy_list = ['Shape']\n",
    "dm = dummy_df(dm, todummy_list)\n",
    "print(dm.head())"
   ]
  },
  {
   "cell_type": "code",
   "execution_count": 70,
   "metadata": {},
   "outputs": [
    {
     "data": {
      "text/html": [
       "<div>\n",
       "<style scoped>\n",
       "    .dataframe tbody tr th:only-of-type {\n",
       "        vertical-align: middle;\n",
       "    }\n",
       "\n",
       "    .dataframe tbody tr th {\n",
       "        vertical-align: top;\n",
       "    }\n",
       "\n",
       "    .dataframe thead th {\n",
       "        text-align: right;\n",
       "    }\n",
       "</style>\n",
       "<table border=\"1\" class=\"dataframe\">\n",
       "  <thead>\n",
       "    <tr style=\"text-align: right;\">\n",
       "      <th></th>\n",
       "      <th>Carat</th>\n",
       "      <th>Color</th>\n",
       "      <th>Clarity</th>\n",
       "      <th>Cut</th>\n",
       "      <th>Depth</th>\n",
       "      <th>Table</th>\n",
       "      <th>Symmetry</th>\n",
       "      <th>Cert</th>\n",
       "      <th>Shape_Asscher</th>\n",
       "      <th>Shape_Cushion</th>\n",
       "      <th>Shape_Cushion Brilliant</th>\n",
       "      <th>Shape_Emerald</th>\n",
       "      <th>Shape_Heart</th>\n",
       "      <th>Shape_Marquise</th>\n",
       "      <th>Shape_Oval</th>\n",
       "      <th>Shape_Pear</th>\n",
       "      <th>Shape_Princess</th>\n",
       "      <th>Shape_Radiant</th>\n",
       "      <th>Shape_Round</th>\n",
       "      <th>Price</th>\n",
       "    </tr>\n",
       "  </thead>\n",
       "  <tbody>\n",
       "    <tr>\n",
       "      <th>0</th>\n",
       "      <td>1.41</td>\n",
       "      <td>8</td>\n",
       "      <td>8</td>\n",
       "      <td>3</td>\n",
       "      <td>68.1</td>\n",
       "      <td>66.0</td>\n",
       "      <td>2</td>\n",
       "      <td>1</td>\n",
       "      <td>1</td>\n",
       "      <td>0</td>\n",
       "      <td>0</td>\n",
       "      <td>0</td>\n",
       "      <td>0</td>\n",
       "      <td>0</td>\n",
       "      <td>0</td>\n",
       "      <td>0</td>\n",
       "      <td>0</td>\n",
       "      <td>0</td>\n",
       "      <td>0</td>\n",
       "      <td>9668</td>\n",
       "    </tr>\n",
       "    <tr>\n",
       "      <th>1</th>\n",
       "      <td>1.18</td>\n",
       "      <td>5</td>\n",
       "      <td>6</td>\n",
       "      <td>3</td>\n",
       "      <td>68.4</td>\n",
       "      <td>63.0</td>\n",
       "      <td>3</td>\n",
       "      <td>1</td>\n",
       "      <td>1</td>\n",
       "      <td>0</td>\n",
       "      <td>0</td>\n",
       "      <td>0</td>\n",
       "      <td>0</td>\n",
       "      <td>0</td>\n",
       "      <td>0</td>\n",
       "      <td>0</td>\n",
       "      <td>0</td>\n",
       "      <td>0</td>\n",
       "      <td>0</td>\n",
       "      <td>4408</td>\n",
       "    </tr>\n",
       "    <tr>\n",
       "      <th>2</th>\n",
       "      <td>1.83</td>\n",
       "      <td>5</td>\n",
       "      <td>7</td>\n",
       "      <td>3</td>\n",
       "      <td>66.6</td>\n",
       "      <td>61.0</td>\n",
       "      <td>3</td>\n",
       "      <td>1</td>\n",
       "      <td>1</td>\n",
       "      <td>0</td>\n",
       "      <td>0</td>\n",
       "      <td>0</td>\n",
       "      <td>0</td>\n",
       "      <td>0</td>\n",
       "      <td>0</td>\n",
       "      <td>0</td>\n",
       "      <td>0</td>\n",
       "      <td>0</td>\n",
       "      <td>0</td>\n",
       "      <td>8220</td>\n",
       "    </tr>\n",
       "    <tr>\n",
       "      <th>3</th>\n",
       "      <td>2.32</td>\n",
       "      <td>8</td>\n",
       "      <td>7</td>\n",
       "      <td>3</td>\n",
       "      <td>67.8</td>\n",
       "      <td>63.0</td>\n",
       "      <td>3</td>\n",
       "      <td>1</td>\n",
       "      <td>1</td>\n",
       "      <td>0</td>\n",
       "      <td>0</td>\n",
       "      <td>0</td>\n",
       "      <td>0</td>\n",
       "      <td>0</td>\n",
       "      <td>0</td>\n",
       "      <td>0</td>\n",
       "      <td>0</td>\n",
       "      <td>0</td>\n",
       "      <td>0</td>\n",
       "      <td>22106</td>\n",
       "    </tr>\n",
       "    <tr>\n",
       "      <th>4</th>\n",
       "      <td>1.01</td>\n",
       "      <td>5</td>\n",
       "      <td>8</td>\n",
       "      <td>3</td>\n",
       "      <td>70.5</td>\n",
       "      <td>67.0</td>\n",
       "      <td>2</td>\n",
       "      <td>1</td>\n",
       "      <td>1</td>\n",
       "      <td>0</td>\n",
       "      <td>0</td>\n",
       "      <td>0</td>\n",
       "      <td>0</td>\n",
       "      <td>0</td>\n",
       "      <td>0</td>\n",
       "      <td>0</td>\n",
       "      <td>0</td>\n",
       "      <td>0</td>\n",
       "      <td>0</td>\n",
       "      <td>2901</td>\n",
       "    </tr>\n",
       "  </tbody>\n",
       "</table>\n",
       "</div>"
      ],
      "text/plain": [
       "   Carat  Color  Clarity Cut  Depth  Table Symmetry  Cert  Shape_Asscher  \\\n",
       "0   1.41      8        8   3   68.1   66.0        2     1              1   \n",
       "1   1.18      5        6   3   68.4   63.0        3     1              1   \n",
       "2   1.83      5        7   3   66.6   61.0        3     1              1   \n",
       "3   2.32      8        7   3   67.8   63.0        3     1              1   \n",
       "4   1.01      5        8   3   70.5   67.0        2     1              1   \n",
       "\n",
       "   Shape_Cushion  Shape_Cushion Brilliant  Shape_Emerald  Shape_Heart  \\\n",
       "0              0                        0              0            0   \n",
       "1              0                        0              0            0   \n",
       "2              0                        0              0            0   \n",
       "3              0                        0              0            0   \n",
       "4              0                        0              0            0   \n",
       "\n",
       "   Shape_Marquise  Shape_Oval  Shape_Pear  Shape_Princess  Shape_Radiant  \\\n",
       "0               0           0           0               0              0   \n",
       "1               0           0           0               0              0   \n",
       "2               0           0           0               0              0   \n",
       "3               0           0           0               0              0   \n",
       "4               0           0           0               0              0   \n",
       "\n",
       "   Shape_Round  Price  \n",
       "0            0   9668  \n",
       "1            0   4408  \n",
       "2            0   8220  \n",
       "3            0  22106  \n",
       "4            0   2901  "
      ]
     },
     "execution_count": 70,
     "metadata": {},
     "output_type": "execute_result"
    }
   ],
   "source": [
    "dm.loc[dm.Color == 'P','Color'] = 0\n",
    "dm.loc[dm.Color == 'M','Color'] = 1\n",
    "dm.loc[dm.Color == 'L','Color'] = 2\t\n",
    "dm.loc[dm.Color == 'K','Color'] = 3\n",
    "dm.loc[dm.Color == 'J','Color'] = 4\n",
    "dm.loc[dm.Color == 'I','Color'] = 5\n",
    "dm.loc[dm.Color == 'H','Color'] = 6\n",
    "dm.loc[dm.Color == 'G','Color'] = 7\n",
    "dm.loc[dm.Color == 'F','Color'] = 8\n",
    "dm.loc[dm.Color == 'E','Color'] = 9\n",
    "dm.loc[dm.Color == 'D','Color'] = 10\n",
    "dm.loc[dm.Clarity == 'I3','Clarity'] = 0\n",
    "dm.loc[dm.Clarity == 'I2','Clarity'] = 1\n",
    "dm.loc[dm.Clarity == 'I1','Clarity'] = 2\n",
    "dm.loc[dm.Clarity == 'SI2','Clarity'] = 3\n",
    "dm.loc[dm.Clarity == 'SI1','Clarity'] = 4\n",
    "dm.loc[dm.Clarity == 'VS2','Clarity'] = 5\n",
    "dm.loc[dm.Clarity == 'VS1','Clarity'] = 6\n",
    "dm.loc[dm.Clarity == 'VVS2','Clarity'] = 7\n",
    "dm.loc[dm.Clarity == 'VVS1','Clarity'] = 8\n",
    "dm.loc[dm.Clarity == 'IF','Clarity'] = 9\n",
    "dm.loc[dm.Clarity == 'FL','Clarity'] = 10\n",
    "dm.loc[dm.Cut == 'Fair','Cut'] = 0\n",
    "dm.loc[dm.Cut == 'Good','Cut'] = 1\n",
    "dm.loc[dm.Cut == 'Very Good','Cut'] = 2\n",
    "dm.loc[dm.Cut == 'Excellent','Cut'] = 3\n",
    "dm.loc[dm.Symmetry == 'Fair','Symmetry'] = 0\n",
    "dm.loc[dm.Symmetry == 'Good','Symmetry'] = 1\n",
    "dm.loc[dm.Symmetry == 'Very Good','Symmetry'] = 2\n",
    "dm.loc[dm.Symmetry == 'Excellent','Symmetry'] = 3\n",
    "dm['Cert'] = ['GIA' if x == 'GIA' else 'Other' for x in dm['Cert']]\n",
    "\n",
    "\n",
    "dm.loc[dm.Cert == 'Other','Cert'] = 0\n",
    "dm.loc[dm.Cert == 'GIA','Cert'] = 1\n",
    "\n",
    "\n",
    "cols = list(dm.columns.values)\n",
    "cols.pop(cols.index('Price'))\n",
    "dm = dm[cols + ['Price']]\n",
    "\n",
    "dm.head()"
   ]
  },
  {
   "cell_type": "code",
   "execution_count": null,
   "metadata": {},
   "outputs": [],
   "source": []
  },
  {
   "cell_type": "markdown",
   "metadata": {},
   "source": [
    "## Handling the missing data"
   ]
  },
  {
   "cell_type": "code",
   "execution_count": 71,
   "metadata": {},
   "outputs": [
    {
     "data": {
      "text/plain": [
       "Cut         0.001434\n",
       "Table       0.001339\n",
       "Depth       0.001243\n",
       "Symmetry    0.001148\n",
       "Price       0.000000\n",
       "dtype: float64"
      ]
     },
     "execution_count": 71,
     "metadata": {},
     "output_type": "execute_result"
    }
   ],
   "source": [
    "dm.isnull().sum().sort_values(ascending = False).head()\n",
    "dm.isnull().mean().sort_values(ascending = False).head()"
   ]
  },
  {
   "cell_type": "code",
   "execution_count": 72,
   "metadata": {},
   "outputs": [],
   "source": [
    "#find out the missing data and replace them with the median of this catagery\n",
    "from sklearn.preprocessing import Imputer\n",
    "\n",
    "imp = Imputer(missing_values='NaN', strategy='mean', axis=0)\n",
    "imp.fit(dm)\n",
    "dm = pd.DataFrame(data=imp.transform(dm) , columns=dm.columns)\n"
   ]
  },
  {
   "cell_type": "code",
   "execution_count": 73,
   "metadata": {},
   "outputs": [
    {
     "data": {
      "text/plain": [
       "Price          0\n",
       "Shape_Round    0\n",
       "Color          0\n",
       "Clarity        0\n",
       "Cut            0\n",
       "dtype: int64"
      ]
     },
     "execution_count": 73,
     "metadata": {},
     "output_type": "execute_result"
    }
   ],
   "source": [
    "dm.isnull().sum().sort_values(ascending = False).head()"
   ]
  },
  {
   "cell_type": "markdown",
   "metadata": {},
   "source": [
    "## Handling the outlier data"
   ]
  },
  {
   "cell_type": "code",
   "execution_count": 74,
   "metadata": {},
   "outputs": [],
   "source": [
    "##Specrate the data set based on the price and others\n",
    "X = dm.drop(['Price'],1)\n",
    "Y = dm['Price']\n"
   ]
  },
  {
   "cell_type": "code",
   "execution_count": 93,
   "metadata": {},
   "outputs": [
    {
     "data": {
      "image/png": "[encoded data removed]",
      "text/plain": [
       "<matplotlib.figure.Figure at 0x290a5906518>"
      ]
     },
     "metadata": {},
     "output_type": "display_data"
    }
   ],
   "source": [
    "#Since the price value is way larger than the carat and dimension value so I choose \n",
    "#log(price) to ensure they are in the same scale.\n",
    "\n",
    "dm['log_price'] = np.log(Y)\n",
    "dm['Price'] = dm['log_price']\n",
    "Y = dm['Price']\n",
    "plt.figure(figsize=(10,5))\n",
    "sns.distplot(dm.Price);"
   ]
  },
  {
   "cell_type": "code",
   "execution_count": 86,
   "metadata": {},
   "outputs": [
    {
     "data": {
      "image/png": "[encoded data removed]",
      "text/plain": [
       "<matplotlib.figure.Figure at 0x290a55de630>"
      ]
     },
     "metadata": {},
     "output_type": "display_data"
    },
    {
     "data": {
      "text/plain": [
       "0   -0.033037\n",
       "1   -0.296181\n",
       "2    0.447489\n",
       "3    1.008102\n",
       "4   -0.490680\n",
       "Name: Carat, dtype: float64"
      ]
     },
     "execution_count": 86,
     "metadata": {},
     "output_type": "execute_result"
    }
   ],
   "source": [
    "def Z_score(data):\n",
    "    dm[data] = (dm[data] - dm[data].mean())/dm[data].std()\n",
    "    return dm[data]\n",
    "dm['Depth'] = Z_score('Depth')\n",
    "dm['Table'] = Z_score('Table')\n",
    "dm['Carat'] = Z_score('Carat')\n",
    "\n",
    "import seaborn as sns\n",
    "sns.set(color_codes = True)\n",
    "sns.distplot(dm['Carat'])\n",
    "plt.show()\n",
    "dm['Carat'].head()"
   ]
  },
  {
   "cell_type": "code",
   "execution_count": 88,
   "metadata": {},
   "outputs": [
    {
     "data": {
      "image/png": "[encoded data removed]",
      "text/plain": [
       "<matplotlib.figure.Figure at 0x290a56fa470>"
      ]
     },
     "metadata": {},
     "output_type": "display_data"
    }
   ],
   "source": [
    "#preprocessing the data to ensure the data in the same scale\n",
    "from sklearn import preprocessing\n",
    "dm['Carat_scaled'] = preprocessing.scale(dm['Carat'])\n",
    "dm['Carat_scaled'].head()\n",
    "sns.distplot(dm['Carat_scaled'])\n",
    "plt.show()"
   ]
  },
  {
   "cell_type": "code",
   "execution_count": 89,
   "metadata": {},
   "outputs": [],
   "source": [
    "\n",
    "import matplotlib.pyplot as plt\n",
    "%matplotlib inline\n",
    "import seaborn as sns\n",
    "\n",
    "def draw_scatter(data):\n",
    "    \n",
    "    X_draw = X[data]\n",
    "    Y_draw = Y\n",
    "    plt.scatter(X_draw,Y_draw, color = 'blue', alpha = 0.5)\n",
    "    plt.show()"
   ]
  },
  {
   "cell_type": "code",
   "execution_count": 90,
   "metadata": {},
   "outputs": [
    {
     "data": {
      "image/png": "[encoded data removed]",
      "text/plain": [
       "<matplotlib.figure.Figure at 0x290a4cfa7b8>"
      ]
     },
     "metadata": {},
     "output_type": "display_data"
    },
    {
     "data": {
      "text/plain": [
       "(10457, 19)"
      ]
     },
     "execution_count": 90,
     "metadata": {},
     "output_type": "execute_result"
    }
   ],
   "source": [
    "draw_scatter(\"Carat\")\n",
    "X.shape"
   ]
  },
  {
   "cell_type": "code",
   "execution_count": 23,
   "metadata": {},
   "outputs": [],
   "source": [
    "# Handle the outlier by box plot method\n",
    "def find_outlier(data):\n",
    "    Q1 = X[data].quantile(0.25)\n",
    "    Q3 = X[data].quantile(0.75)\n",
    "    IQR = 1.5*(Q3-Q1)\n",
    "    upper_limit = Q3+IQR\n",
    "    lower_limit = Q1-IQR\n",
    "    outlier = X[(X[data] < upper_limit) & (X[data] > lower_limit)]\n",
    "\n",
    "    return outlier\n"
   ]
  },
  {
   "cell_type": "code",
   "execution_count": 24,
   "metadata": {},
   "outputs": [
    {
     "data": {
      "text/plain": [
       "(9764, 19)"
      ]
     },
     "execution_count": 24,
     "metadata": {},
     "output_type": "execute_result"
    }
   ],
   "source": [
    "X = find_outlier('Carat')\n",
    "Y = Y[X.index]\n",
    "X.shape"
   ]
  },
  {
   "cell_type": "code",
   "execution_count": 25,
   "metadata": {},
   "outputs": [
    {
     "data": {
      "image/png": "[encoded data removed]",
      "text/plain": [
       "<matplotlib.figure.Figure at 0x290a4d2a630>"
      ]
     },
     "metadata": {},
     "output_type": "display_data"
    }
   ],
   "source": [
    "\n",
    "draw_scatter(\"Carat\")"
   ]
  },
  {
   "cell_type": "markdown",
   "metadata": {},
   "source": [
    "## Split the data set to train part and test part\n",
    "\n",
    "Using train_test_split function of Scikit-learn "
   ]
  },
  {
   "cell_type": "code",
   "execution_count": 26,
   "metadata": {},
   "outputs": [
    {
     "name": "stderr",
     "output_type": "stream",
     "text": [
      "C:\\Anaconda3\\lib\\site-packages\\sklearn\\cross_validation.py:41: DeprecationWarning: This module was deprecated in version 0.18 in favor of the model_selection module into which all the refactored classes and functions are moved. Also note that the interface of the new CV iterators are different from that of this module. This module will be removed in 0.20.\n",
      "  \"This module will be removed in 0.20.\", DeprecationWarning)\n"
     ]
    }
   ],
   "source": [
    "from sklearn.cross_validation import train_test_split\n",
    "\n",
    "X_train,X_test, y_train, y_test = train_test_split(X,Y,test_size=0.2, random_state=0) "
   ]
  },
  {
   "cell_type": "code",
   "execution_count": 46,
   "metadata": {
    "scrolled": true
   },
   "outputs": [
    {
     "name": "stdout",
     "output_type": "stream",
     "text": [
      "X_train shape is 7811 by 3\n",
      "\n",
      "y_train shape is 7811\n",
      "\n",
      "X_test shape is 1953 by 3\n",
      "\n",
      "y_test shape is 1953\n"
     ]
    }
   ],
   "source": [
    "print(\"X_train shape is\", X_train.shape[0],\"by\", X_train.shape[1])\n",
    "print(\"\\ny_train shape is\", y_train.shape[0])\n",
    "print(\"\\nX_test shape is\", X_test.shape[0],\"by\", X_test.shape[1])\n",
    "print(\"\\ny_test shape is\", y_test.shape[0])"
   ]
  },
  {
   "cell_type": "code",
   "execution_count": 28,
   "metadata": {
    "scrolled": true
   },
   "outputs": [
    {
     "data": {
      "text/plain": [
       "942     8.219865\n",
       "4320    8.357494\n",
       "3071    8.212568\n",
       "2483    9.326255\n",
       "3879    8.572817\n",
       "Name: Price, dtype: float64"
      ]
     },
     "execution_count": 28,
     "metadata": {},
     "output_type": "execute_result"
    }
   ],
   "source": [
    "y_train.head()"
   ]
  },
  {
   "cell_type": "markdown",
   "metadata": {},
   "source": [
    "## Build Multiple Linear Regressioner"
   ]
  },
  {
   "cell_type": "code",
   "execution_count": 55,
   "metadata": {
    "scrolled": true
   },
   "outputs": [],
   "source": [
    "from sklearn.linear_model import LinearRegression\n",
    "from sklearn.preprocessing import PolynomialFeatures\n",
    "from sklearn.metrics import mean_squared_error, r2_score\n",
    "\n",
    "features = ['Carat','Depth','Table']\n",
    "X_train = X_train[features]\n",
    "X_test = X_test[features]\n",
    "regressor = LinearRegression()\n",
    "regressor.fit(X_train,y_train)\n",
    "\n",
    "#predict with trained model\n",
    "predicted_y_test = regressor.predict(X_test)\n"
   ]
  },
  {
   "cell_type": "code",
   "execution_count": 56,
   "metadata": {},
   "outputs": [
    {
     "name": "stdout",
     "output_type": "stream",
     "text": [
      "Result Mean is 0.765555433919\n",
      "Result standard deviation is 0.0116410700926\n"
     ]
    }
   ],
   "source": [
    "from sklearn.metrics import mean_squared_error, r2_score\n",
    "from sklearn.model_selection import cross_val_score, KFold\n",
    "kfold = KFold(n_splits=5, random_state=None, shuffle=False)\n",
    "cv_results = cross_val_score(regressor, X_train, y_train, cv=kfold, n_jobs=-1) \n",
    "print(\"Result Mean is\", cv_results.mean())\n",
    "print(\"Result standard deviation is\", cv_results.std())"
   ]
  },
  {
   "cell_type": "code",
   "execution_count": 57,
   "metadata": {
    "scrolled": true
   },
   "outputs": [
    {
     "name": "stdout",
     "output_type": "stream",
     "text": [
      "\n",
      "Mean Square Error is 0.216480792216\n",
      "\n",
      "R2 Score is 0.750350196702\n",
      "\n",
      "Features' Corresponding Coefficients:\n",
      " Carat     0.282899\n",
      "Depth    24.038944\n",
      "Table    27.672272\n",
      "dtype: float64\n",
      "\n",
      "Multiple Linear Regression coefficients are [ 1.57598715 -0.01131533 -0.0048577 ]\n"
     ]
    }
   ],
   "source": [
    "regressor = LinearRegression()\n",
    "regressor.fit(X_train,y_train)\n",
    "\n",
    "predicted_y_test = regressor.predict(X_test)\n",
    "\n",
    "print(\"\\nMean Square Error is\", mean_squared_error(y_test, predicted_y_test))\n",
    "print(\"\\nR2 Score is\", r2_score(y_test, predicted_y_test))\n",
    "print(\"\\nFeatures' Corresponding Coefficients:\\n\", np.var(X_train,ddof = 1))\n",
    "print(\"\\nMultiple Linear Regression coefficients are\",regressor.coef_)"
   ]
  },
  {
   "cell_type": "code",
   "execution_count": 38,
   "metadata": {},
   "outputs": [
    {
     "data": {
      "text/plain": [
       "[<matplotlib.lines.Line2D at 0x29f923f1320>]"
      ]
     },
     "execution_count": 38,
     "metadata": {},
     "output_type": "execute_result"
    },
    {
     "data": {
      "image/png": "[encoded data removed]",
      "text/plain": [
       "<matplotlib.figure.Figure at 0x29f923f1b38>"
      ]
     },
     "metadata": {},
     "output_type": "display_data"
    }
   ],
   "source": [
    "plt.scatter(X_test['Carat'], y_test,  color='black')\n",
    "plt.plot(X_test['Carat'], predicted_y_test, color='blue')"
   ]
  }
 ],
 "metadata": {
  "kernelspec": {
   "display_name": "Python 3",
   "language": "python",
   "name": "python3"
  },
  "language_info": {
   "codemirror_mode": {
    "name": "ipython",
    "version": 3
   },
   "file_extension": ".py",
   "mimetype": "text/x-python",
   "name": "python",
   "nbconvert_exporter": "python",
   "pygments_lexer": "ipython3",
   "version": "3.6.4"
  }
 },
 "nbformat": 4,
 "nbformat_minor": 2
}
